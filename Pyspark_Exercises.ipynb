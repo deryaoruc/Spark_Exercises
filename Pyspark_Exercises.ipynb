{
  "cells": [
    {
      "cell_type": "markdown",
      "metadata": {
        "id": "view-in-github",
        "colab_type": "text"
      },
      "source": [
        "<a href=\"https://colab.research.google.com/github/deryaoruc/Spark_Exercises/blob/main/Pyspark_Exercises.ipynb\" target=\"_parent\"><img src=\"https://colab.research.google.com/assets/colab-badge.svg\" alt=\"Open In Colab\"/></a>"
      ]
    },
    {
      "cell_type": "code",
      "source": [
        "!pip install pyspark\n",
        "import pyspark"
      ],
      "metadata": {
        "colab": {
          "base_uri": "https://localhost:8080/"
        },
        "id": "ypWeguhIoW6t",
        "outputId": "ac823aa5-06b1-4427-e05c-6bcd2316457a"
      },
      "id": "ypWeguhIoW6t",
      "execution_count": null,
      "outputs": [
        {
          "output_type": "stream",
          "name": "stdout",
          "text": [
            "Looking in indexes: https://pypi.org/simple, https://us-python.pkg.dev/colab-wheels/public/simple/\n",
            "Requirement already satisfied: pyspark in /usr/local/lib/python3.8/dist-packages (3.3.1)\n",
            "Requirement already satisfied: py4j==0.10.9.5 in /usr/local/lib/python3.8/dist-packages (from pyspark) (0.10.9.5)\n"
          ]
        }
      ]
    },
    {
      "cell_type": "code",
      "execution_count": null,
      "id": "9d867484",
      "metadata": {
        "id": "9d867484"
      },
      "outputs": [],
      "source": [
        "import pyspark\n",
        "from pyspark.sql import SparkSession\n",
        "from pyspark.sql.functions import col"
      ]
    },
    {
      "cell_type": "code",
      "execution_count": null,
      "id": "18cf8dbd",
      "metadata": {
        "id": "18cf8dbd"
      },
      "outputs": [],
      "source": [
        "spark = SparkSession.builder.master(\"local[*]\").appName(\"Datamanipulation\").getOrCreate()"
      ]
    },
    {
      "cell_type": "code",
      "execution_count": null,
      "id": "9e64796c",
      "metadata": {
        "colab": {
          "base_uri": "https://localhost:8080/",
          "height": 219
        },
        "id": "9e64796c",
        "outputId": "4ddbb97c-dbd2-4aee-f720-e50c324e7e54"
      },
      "outputs": [
        {
          "output_type": "execute_result",
          "data": {
            "text/plain": [
              "<pyspark.sql.session.SparkSession at 0x7fdf1f0ae430>"
            ],
            "text/html": [
              "\n",
              "            <div>\n",
              "                <p><b>SparkSession - in-memory</b></p>\n",
              "                \n",
              "        <div>\n",
              "            <p><b>SparkContext</b></p>\n",
              "\n",
              "            <p><a href=\"http://4ae5000b0b82:4040\">Spark UI</a></p>\n",
              "\n",
              "            <dl>\n",
              "              <dt>Version</dt>\n",
              "                <dd><code>v3.3.1</code></dd>\n",
              "              <dt>Master</dt>\n",
              "                <dd><code>local[*]</code></dd>\n",
              "              <dt>AppName</dt>\n",
              "                <dd><code>Datamanipulation</code></dd>\n",
              "            </dl>\n",
              "        </div>\n",
              "        \n",
              "            </div>\n",
              "        "
            ]
          },
          "metadata": {},
          "execution_count": 56
        }
      ],
      "source": [
        "spark"
      ]
    },
    {
      "cell_type": "code",
      "execution_count": null,
      "id": "1cb29770",
      "metadata": {
        "id": "1cb29770"
      },
      "outputs": [],
      "source": [
        "# read our data - lives in a csv file\n",
        "\n",
        "df = spark.read.option(\"header\",\"true\").csv(\"Sample - EU Superstore.csv\")"
      ]
    },
    {
      "cell_type": "code",
      "source": [
        "df.show(5)"
      ],
      "metadata": {
        "colab": {
          "base_uri": "https://localhost:8080/"
        },
        "id": "VQCGXJV2pTCH",
        "outputId": "080ba5dd-5199-4177-ec10-505e9a7fc15e"
      },
      "id": "VQCGXJV2pTCH",
      "execution_count": null,
      "outputs": [
        {
          "output_type": "stream",
          "name": "stdout",
          "text": [
            "+------+---------------+----------+----------+--------------+-----------+--------------+---------+-----+-------+--------------+------+---------------+---------------+------------+--------------------+------+--------+--------+------+\n",
            "|Row ID|       Order ID|Order Date| Ship Date|     Ship Mode|Customer ID| Customer Name|  Segment| City|  State|       Country|Region|     Product ID|       Category|Sub-Category|        Product Name| Sales|Quantity|Discount|Profit|\n",
            "+------+---------------+----------+----------+--------------+-----------+--------------+---------+-----+-------+--------------+------+---------------+---------------+------------+--------------------+------+--------+--------+------+\n",
            "|     1|ES-2017-1311038|07/02/2017|11/02/2017|Standard Class|   AS-10045|Aaron Smayling|Corporate|Leeds|England|United Kingdom| North|OFF-ST-10000988|Office Supplies|     Storage|Fellowes Folders,...|  79.2|       3|       0|  39.6|\n",
            "|     2|ES-2017-1311038|07/02/2017|11/02/2017|Standard Class|   AS-10045|Aaron Smayling|Corporate|Leeds|England|United Kingdom| North|TEC-AC-10004144|     Technology| Accessories|SanDisk Numeric K...|388.92|       7|       0|     0|\n",
            "|     3|ES-2017-1311038|07/02/2017|11/02/2017|Standard Class|   AS-10045|Aaron Smayling|Corporate|Leeds|England|United Kingdom| North|OFF-LA-10001915|Office Supplies|      Labels|Avery Legal Exhib...| 35.19|       3|       0| 16.11|\n",
            "|     4|ES-2017-1311038|07/02/2017|11/02/2017|Standard Class|   AS-10045|Aaron Smayling|Corporate|Leeds|England|United Kingdom| North|OFF-ST-10004550|Office Supplies|     Storage|Fellowes Folders,...| 50.94|       2|       0|  13.2|\n",
            "|     5|ES-2017-1311038|07/02/2017|11/02/2017|Standard Class|   AS-10045|Aaron Smayling|Corporate|Leeds|England|United Kingdom| North|TEC-AC-10004068|     Technology| Accessories|Memorex Memory Ca...|307.44|       3|       0| 73.71|\n",
            "+------+---------------+----------+----------+--------------+-----------+--------------+---------+-----+-------+--------------+------+---------------+---------------+------------+--------------------+------+--------+--------+------+\n",
            "only showing top 5 rows\n",
            "\n"
          ]
        }
      ]
    },
    {
      "cell_type": "code",
      "source": [
        "df.printSchema()"
      ],
      "metadata": {
        "colab": {
          "base_uri": "https://localhost:8080/"
        },
        "id": "q1nsGo4Jvhid",
        "outputId": "980053bc-dee0-4bac-8abf-224e62fc84d7"
      },
      "id": "q1nsGo4Jvhid",
      "execution_count": null,
      "outputs": [
        {
          "output_type": "stream",
          "name": "stdout",
          "text": [
            "root\n",
            " |-- Row ID: string (nullable = true)\n",
            " |-- Order ID: string (nullable = true)\n",
            " |-- Order Date: string (nullable = true)\n",
            " |-- Ship Date: string (nullable = true)\n",
            " |-- Ship Mode: string (nullable = true)\n",
            " |-- Customer ID: string (nullable = true)\n",
            " |-- Customer Name: string (nullable = true)\n",
            " |-- Segment: string (nullable = true)\n",
            " |-- City: string (nullable = true)\n",
            " |-- State: string (nullable = true)\n",
            " |-- Country: string (nullable = true)\n",
            " |-- Region: string (nullable = true)\n",
            " |-- Product ID: string (nullable = true)\n",
            " |-- Category: string (nullable = true)\n",
            " |-- Sub-Category: string (nullable = true)\n",
            " |-- Product Name: string (nullable = true)\n",
            " |-- Sales: string (nullable = true)\n",
            " |-- Quantity: string (nullable = true)\n",
            " |-- Discount: string (nullable = true)\n",
            " |-- Profit: string (nullable = true)\n",
            "\n"
          ]
        }
      ]
    },
    {
      "cell_type": "code",
      "execution_count": null,
      "id": "6c800030",
      "metadata": {
        "colab": {
          "base_uri": "https://localhost:8080/"
        },
        "id": "6c800030",
        "outputId": "32dbe5ca-7d8d-4531-97f5-5fe962262749"
      },
      "outputs": [
        {
          "output_type": "execute_result",
          "data": {
            "text/plain": [
              "2827"
            ]
          },
          "metadata": {},
          "execution_count": 60
        }
      ],
      "source": [
        "# how many rows of the EU Superstore dataset have the country being France\n",
        "df = df.withColumn(\"Profit\", col(\"Profit\").cast(\"double\"))\n",
        "df = df.withColumn(\"Discount\", col(\"Discount\").cast(\"double\"))\n",
        "\n",
        "df_France = df.filter(df[\"Country\"]==\"France\")\n",
        "df_France.count()"
      ]
    },
    {
      "cell_type": "code",
      "execution_count": null,
      "id": "648e5f8a",
      "metadata": {
        "colab": {
          "base_uri": "https://localhost:8080/"
        },
        "id": "648e5f8a",
        "outputId": "2a21b84d-017a-4efc-cbd3-3554bdb7e227"
      },
      "outputs": [
        {
          "output_type": "execute_result",
          "data": {
            "text/plain": [
              "2329"
            ]
          },
          "metadata": {},
          "execution_count": 61
        }
      ],
      "source": [
        "# of those, how many are profitable?\n",
        "df_France.filter(df_France[\"Profit\"]>0).count()"
      ]
    },
    {
      "cell_type": "code",
      "execution_count": null,
      "id": "ca611b93",
      "metadata": {
        "colab": {
          "base_uri": "https://localhost:8080/"
        },
        "id": "ca611b93",
        "outputId": "ff56f604-2ecf-4078-d218-1360b75f6c63"
      },
      "outputs": [
        {
          "output_type": "stream",
          "name": "stdout",
          "text": [
            "+--------+\n",
            "|Discount|\n",
            "+--------+\n",
            "|     0.0|\n",
            "|     0.2|\n",
            "|     0.7|\n",
            "|     0.1|\n",
            "|    0.45|\n",
            "|     0.6|\n",
            "|     0.8|\n",
            "|    0.35|\n",
            "|     0.5|\n",
            "|     0.4|\n",
            "|    0.85|\n",
            "|    0.15|\n",
            "|    0.65|\n",
            "|     0.3|\n",
            "+--------+\n",
            "\n"
          ]
        }
      ],
      "source": [
        "# how many different discount brackets exist? what are they?\n",
        "df.select(\"Discount\").distinct().show()"
      ]
    },
    {
      "cell_type": "code",
      "execution_count": null,
      "id": "b2e1f9f0",
      "metadata": {
        "colab": {
          "base_uri": "https://localhost:8080/"
        },
        "id": "b2e1f9f0",
        "outputId": "f643f161-9f4d-4c82-e456-962cdcecf7e1"
      },
      "outputs": [
        {
          "output_type": "stream",
          "name": "stdout",
          "text": [
            "+--------+-------------------+\n",
            "|Discount|        sum(Profit)|\n",
            "+--------+-------------------+\n",
            "|     0.0| 383806.53000000026|\n",
            "|     0.1|  126884.0309999999|\n",
            "|    0.15| 24677.563499999975|\n",
            "|     0.2| 2189.5499999999984|\n",
            "|     0.8|           -460.284|\n",
            "|     0.3| -758.4209999999999|\n",
            "|    0.45|         -1103.1915|\n",
            "|    0.85|          -3068.658|\n",
            "|     0.7|          -5496.765|\n",
            "|    0.65| -6221.965499999999|\n",
            "|    0.35|          -9122.649|\n",
            "|     0.6|-20517.456000000002|\n",
            "|     0.4|-21346.427999999996|\n",
            "|     0.5|         -96632.115|\n",
            "+--------+-------------------+\n",
            "\n"
          ]
        }
      ],
      "source": [
        "# let's see the total profit by discount bracket, make sure they are ordered by \n",
        "from pyspark.sql.functions import desc\n",
        "df.groupBy(\"Discount\").agg({\"Profit\": \"sum\"}).orderBy(desc(\"sum(Profit)\")).show()"
      ]
    },
    {
      "cell_type": "code",
      "execution_count": null,
      "id": "d1d76050",
      "metadata": {
        "id": "d1d76050",
        "colab": {
          "base_uri": "https://localhost:8080/"
        },
        "outputId": "50faa347-a04a-4336-feb0-758be9b39180"
      },
      "outputs": [
        {
          "output_type": "stream",
          "name": "stdout",
          "text": [
            "+--------+-------------------+\n",
            "|Discount|        sum(Profit)|\n",
            "+--------+-------------------+\n",
            "|     0.0| 383806.53000000026|\n",
            "|     0.1|  126884.0309999999|\n",
            "|    0.15| 24677.563499999975|\n",
            "|     0.2| 2189.5499999999984|\n",
            "|     0.3| -758.4209999999999|\n",
            "|    0.35|          -9122.649|\n",
            "|     0.4|-21346.427999999996|\n",
            "|    0.45|         -1103.1915|\n",
            "|     0.5|         -96632.115|\n",
            "|     0.6|-20517.456000000002|\n",
            "|    0.65| -6221.965499999999|\n",
            "|     0.7|          -5496.765|\n",
            "|     0.8|           -460.284|\n",
            "|    0.85|          -3068.658|\n",
            "+--------+-------------------+\n",
            "\n"
          ]
        }
      ],
      "source": [
        "# what is the value after which we should stop offering discount?\n",
        "df.groupBy(\"Discount\").agg({\"Profit\": \"sum\"}).orderBy((\"Discount\")).show()\n",
        "# We should stop offering at % 0.3"
      ]
    },
    {
      "cell_type": "code",
      "execution_count": null,
      "id": "aae94ee1",
      "metadata": {
        "id": "aae94ee1",
        "colab": {
          "base_uri": "https://localhost:8080/"
        },
        "outputId": "8ae5acba-19b6-46a7-9c8f-4531b6addcb7"
      },
      "outputs": [
        {
          "output_type": "stream",
          "name": "stdout",
          "text": [
            "+-----------+------------------+\n",
            "|Customer ID|       sum(Profit)|\n",
            "+-----------+------------------+\n",
            "|   SP-20920| 4974.512999999999|\n",
            "|   PJ-18835|3986.0039999999995|\n",
            "|   PO-18865|          3778.197|\n",
            "|   EB-13840|           3459.66|\n",
            "|   MG-18145|3144.4439999999995|\n",
            "+-----------+------------------+\n",
            "only showing top 5 rows\n",
            "\n"
          ]
        }
      ],
      "source": [
        "# who are the top 5 most profitable customers\n",
        "\n",
        "df_customer = df.groupBy(\"Customer ID\").agg({\"Profit\": \"sum\"})\n",
        "df_customer.orderBy(desc(\"sum(Profit)\")).show(5)"
      ]
    },
    {
      "cell_type": "code",
      "execution_count": null,
      "id": "277c465a",
      "metadata": {
        "id": "277c465a",
        "colab": {
          "base_uri": "https://localhost:8080/"
        },
        "outputId": "d229f9d4-8bbb-4cbe-b6e5-dcb253a02a28"
      },
      "outputs": [
        {
          "output_type": "stream",
          "name": "stdout",
          "text": [
            "+------+---------------+----------+----------+--------------+-----------+-----------------+---------+-------------+--------------------+--------------+-------+---------------+---------------+------------+--------------------+-------+--------+--------+-------+\n",
            "|Row ID|       Order ID|Order Date| Ship Date|     Ship Mode|Customer ID|    Customer Name|  Segment|         City|               State|       Country| Region|     Product ID|       Category|Sub-Category|        Product Name|  Sales|Quantity|Discount| Profit|\n",
            "+------+---------------+----------+----------+--------------+-----------+-----------------+---------+-------------+--------------------+--------------+-------+---------------+---------------+------------+--------------------+-------+--------+--------+-------+\n",
            "|     8|ES-2015-5113958|02/08/2015|07/08/2015|  Second Class|   EB-13840|    Ellis Ballard|Corporate|West Bromwich|             England|United Kingdom|  North|TEC-CO-10004325|     Technology|     Copiers|Canon Personal Co...| 428.22|       3|     0.0| 192.69|\n",
            "|     9|ES-2015-5113958|02/08/2015|07/08/2015|  Second Class|   EB-13840|    Ellis Ballard|Corporate|West Bromwich|             England|United Kingdom|  North|OFF-AP-10004512|Office Supplies|  Appliances|   Hoover Stove, Red|3979.29|       7|     0.0|1989.54|\n",
            "|    10|ES-2015-5113958|02/08/2015|07/08/2015|  Second Class|   EB-13840|    Ellis Ballard|Corporate|West Bromwich|             England|United Kingdom|  North|OFF-FA-10002393|Office Supplies|   Fasteners|Accos Push Pins, ...|  43.56|       3|     0.0|   12.6|\n",
            "|    27|ES-2017-2557751|28/02/2017|04/03/2017|Standard Class|   SP-20920|     Susan Pistek| Consumer|    Heilbronn|   Baden-Württemberg|       Germany|Central|TEC-MA-10000946|     Technology|    Machines|Panasonic Calcula...| 332.01|       7|     0.0| 112.77|\n",
            "|    28|ES-2017-2557751|28/02/2017|04/03/2017|Standard Class|   SP-20920|     Susan Pistek| Consumer|    Heilbronn|   Baden-Württemberg|       Germany|Central|OFF-ST-10004409|Office Supplies|     Storage|Rogers Box, Indus...|110.025|       5|     0.1|-12.225|\n",
            "|    29|ES-2017-2557751|28/02/2017|04/03/2017|Standard Class|   SP-20920|     Susan Pistek| Consumer|    Heilbronn|   Baden-Württemberg|       Germany|Central|OFF-FA-10000146|Office Supplies|   Fasteners|Stockwell Rubber ...|  41.94|       3|     0.0|   7.92|\n",
            "|   182|ES-2016-1788644|27/05/2016|01/06/2016|Standard Class|   EB-13840|    Ellis Ballard|Corporate| Grevenbroich|North Rhine-Westp...|       Germany|Central|OFF-AR-10003377|Office Supplies|         Art|Boston Pencil Sha...| 181.26|       6|     0.0|  28.98|\n",
            "|   183|ES-2016-1788644|27/05/2016|01/06/2016|Standard Class|   EB-13840|    Ellis Ballard|Corporate| Grevenbroich|North Rhine-Westp...|       Germany|Central|TEC-PH-10004263|     Technology|      Phones|Cisco Signal Boos...|1062.81|       7|     0.0| 265.65|\n",
            "|   184|ES-2016-1788644|27/05/2016|01/06/2016|Standard Class|   EB-13840|    Ellis Ballard|Corporate| Grevenbroich|North Rhine-Westp...|       Germany|Central|OFF-ST-10004577|Office Supplies|     Storage|Tenex Shelving, W...| 96.714|       2|     0.1|  2.094|\n",
            "|   232|ES-2017-1956763|29/12/2017|04/01/2018|Standard Class|   EB-13840|    Ellis Ballard|Corporate|       London|             England|United Kingdom|  North|OFF-EN-10003360|Office Supplies|   Envelopes|Kraft Mailers, wi...|148.284|       4|     0.1| 23.004|\n",
            "|   415|ES-2017-2591069|29/10/2017|02/11/2017|Standard Class|   PO-18865|Patrick O'Donnell| Consumer|        Nancy|Alsace-Champagne-...|        France|Central|OFF-AR-10004303|Office Supplies|         Art|Stanley Markers, ...|   88.8|       4|     0.0|   7.92|\n",
            "|   416|ES-2017-2591069|29/10/2017|02/11/2017|Standard Class|   PO-18865|Patrick O'Donnell| Consumer|        Nancy|Alsace-Champagne-...|        France|Central|TEC-CO-10004005|     Technology|     Copiers|Sharp Copy Machin...|1015.92|       5|    0.15| -24.03|\n",
            "|   689|ES-2016-4398455|09/09/2016|14/09/2016|Standard Class|   PO-18865|Patrick O'Donnell| Consumer|      Catania|              Sicily|         Italy|  South|OFF-AR-10004825|Office Supplies|         Art|BIC Canvas, Fluor...| 109.92|       2|     0.0|  38.46|\n",
            "|   690|ES-2016-4398455|09/09/2016|14/09/2016|Standard Class|   PO-18865|Patrick O'Donnell| Consumer|      Catania|              Sicily|         Italy|  South|OFF-AP-10000864|Office Supplies|  Appliances|Hamilton Beach Re...|1998.24|       4|     0.0| 359.64|\n",
            "|   727|ES-2016-4933394|28/11/2016|03/12/2016|Standard Class|   PO-18865|Patrick O'Donnell| Consumer|         Osny|       Ile-de-France|        France|Central|OFF-LA-10003290|Office Supplies|      Labels|Hon Round Labels,...|   4.56|       1|     0.0|   1.62|\n",
            "|  1090|ES-2015-1059749|14/02/2015|17/02/2015|   First Class|   SP-20920|     Susan Pistek| Consumer|      Quimper|            Brittany|        France|Central|OFF-BI-10001544|Office Supplies|     Binders|Wilson Jones Hole...|   7.98|       2|     0.0|   0.84|\n",
            "|  1091|ES-2015-1059749|14/02/2015|17/02/2015|   First Class|   SP-20920|     Susan Pistek| Consumer|      Quimper|            Brittany|        France|Central|FUR-CH-10004969|      Furniture|      Chairs|Office Star Bag C...| 99.792|       2|     0.1| 11.052|\n",
            "|  1092|ES-2015-1059749|14/02/2015|17/02/2015|   First Class|   SP-20920|     Susan Pistek| Consumer|      Quimper|            Brittany|        France|Central|OFF-AR-10003247|Office Supplies|         Art|Boston Highlighte...|   88.2|       4|     0.0|  15.84|\n",
            "|  1093|ES-2015-1059749|14/02/2015|17/02/2015|   First Class|   SP-20920|     Susan Pistek| Consumer|      Quimper|            Brittany|        France|Central|OFF-BI-10004801|Office Supplies|     Binders|Acco Binding Mach...| 105.18|       2|     0.0|   25.2|\n",
            "|  1094|ES-2015-1059749|14/02/2015|17/02/2015|   First Class|   SP-20920|     Susan Pistek| Consumer|      Quimper|            Brittany|        France|Central|OFF-ST-10003414|Office Supplies|     Storage|Tenex Shelving, I...| 248.13|       5|     0.1|  24.78|\n",
            "+------+---------------+----------+----------+--------------+-----------+-----------------+---------+-------------+--------------------+--------------+-------+---------------+---------------+------------+--------------------+-------+--------+--------+-------+\n",
            "only showing top 20 rows\n",
            "\n"
          ]
        }
      ],
      "source": [
        "# get all the rows belonging to those 5 customer names: hint, you may need the collect method - how many rows are they?\n",
        "top_5_customers = df_customer.orderBy(desc(\"sum(Profit)\")).limit(5).select(\"Customer ID\").collect()\n",
        "top_5_customers_ids = [i[0] for i in top_5_customers]\n",
        "df_top_5_customers = df.filter(df[\"Customer ID\"].isin(top_5_customers_ids))\n",
        "df_top_5_customers.show()"
      ]
    },
    {
      "cell_type": "code",
      "execution_count": null,
      "id": "8d0fc034",
      "metadata": {
        "id": "8d0fc034",
        "colab": {
          "base_uri": "https://localhost:8080/"
        },
        "outputId": "028defef-51db-4225-a1c7-b38f68ecf8bf"
      },
      "outputs": [
        {
          "output_type": "stream",
          "name": "stdout",
          "text": [
            "+------+---------------+----------+----------+--------------+-----------+--------------+---------+-----+-------+--------------+------+---------------+---------------+------------+--------------------+------+--------+--------+------+--------------+\n",
            "|Row ID|       Order ID|Order Date| Ship Date|     Ship Mode|Customer ID| Customer Name|  Segment| City|  State|       Country|Region|     Product ID|       Category|Sub-Category|        Product Name| Sales|Quantity|Discount|Profit|Original Price|\n",
            "+------+---------------+----------+----------+--------------+-----------+--------------+---------+-----+-------+--------------+------+---------------+---------------+------------+--------------------+------+--------+--------+------+--------------+\n",
            "|     1|ES-2017-1311038|07/02/2017|11/02/2017|Standard Class|   AS-10045|Aaron Smayling|Corporate|Leeds|England|United Kingdom| North|OFF-ST-10000988|Office Supplies|     Storage|Fellowes Folders,...|  79.2|       3|     0.0|  39.6|          79.2|\n",
            "|     2|ES-2017-1311038|07/02/2017|11/02/2017|Standard Class|   AS-10045|Aaron Smayling|Corporate|Leeds|England|United Kingdom| North|TEC-AC-10004144|     Technology| Accessories|SanDisk Numeric K...|388.92|       7|     0.0|   0.0|        388.92|\n",
            "|     3|ES-2017-1311038|07/02/2017|11/02/2017|Standard Class|   AS-10045|Aaron Smayling|Corporate|Leeds|England|United Kingdom| North|OFF-LA-10001915|Office Supplies|      Labels|Avery Legal Exhib...| 35.19|       3|     0.0| 16.11|         35.19|\n",
            "|     4|ES-2017-1311038|07/02/2017|11/02/2017|Standard Class|   AS-10045|Aaron Smayling|Corporate|Leeds|England|United Kingdom| North|OFF-ST-10004550|Office Supplies|     Storage|Fellowes Folders,...| 50.94|       2|     0.0|  13.2|         50.94|\n",
            "|     5|ES-2017-1311038|07/02/2017|11/02/2017|Standard Class|   AS-10045|Aaron Smayling|Corporate|Leeds|England|United Kingdom| North|TEC-AC-10004068|     Technology| Accessories|Memorex Memory Ca...|307.44|       3|     0.0| 73.71|        307.44|\n",
            "+------+---------------+----------+----------+--------------+-----------+--------------+---------+-----+-------+--------------+------+---------------+---------------+------------+--------------------+------+--------+--------+------+--------------+\n",
            "only showing top 5 rows\n",
            "\n"
          ]
        }
      ],
      "source": [
        "# create a new column which is the value of the sale were there not discount applied. Hint: orginal = sales/(1-d)\n",
        "df = df.withColumn(\"Original Price\", df[\"Sales\"]/(1-df[\"Discount\"]))\n",
        "df.show(5)"
      ]
    },
    {
      "cell_type": "code",
      "execution_count": null,
      "id": "ba0f9aa9",
      "metadata": {
        "id": "ba0f9aa9",
        "colab": {
          "base_uri": "https://localhost:8080/"
        },
        "outputId": "d3211227-3346-4213-d279-ae45848d7398"
      },
      "outputs": [
        {
          "output_type": "stream",
          "name": "stdout",
          "text": [
            "+------+---------------+----------+----------+--------------+-----------+----------------+-----------+-------------+--------------------+--------------+-------+---------------+---------------+------------+--------------------+--------+--------+--------+-------+------------------+------------------+\n",
            "|Row ID|       Order ID|Order Date| Ship Date|     Ship Mode|Customer ID|   Customer Name|    Segment|         City|               State|       Country| Region|     Product ID|       Category|Sub-Category|        Product Name|   Sales|Quantity|Discount| Profit|    Original Price|        Difference|\n",
            "+------+---------------+----------+----------+--------------+-----------+----------------+-----------+-------------+--------------------+--------------+-------+---------------+---------------+------------+--------------------+--------+--------+--------+-------+------------------+------------------+\n",
            "|     1|ES-2017-1311038|07/02/2017|11/02/2017|Standard Class|   AS-10045|  Aaron Smayling|  Corporate|        Leeds|             England|United Kingdom|  North|OFF-ST-10000988|Office Supplies|     Storage|Fellowes Folders,...|    79.2|       3|     0.0|   39.6|              79.2|               0.0|\n",
            "|     2|ES-2017-1311038|07/02/2017|11/02/2017|Standard Class|   AS-10045|  Aaron Smayling|  Corporate|        Leeds|             England|United Kingdom|  North|TEC-AC-10004144|     Technology| Accessories|SanDisk Numeric K...|  388.92|       7|     0.0|    0.0|            388.92|               0.0|\n",
            "|     3|ES-2017-1311038|07/02/2017|11/02/2017|Standard Class|   AS-10045|  Aaron Smayling|  Corporate|        Leeds|             England|United Kingdom|  North|OFF-LA-10001915|Office Supplies|      Labels|Avery Legal Exhib...|   35.19|       3|     0.0|  16.11|             35.19|               0.0|\n",
            "|     4|ES-2017-1311038|07/02/2017|11/02/2017|Standard Class|   AS-10045|  Aaron Smayling|  Corporate|        Leeds|             England|United Kingdom|  North|OFF-ST-10004550|Office Supplies|     Storage|Fellowes Folders,...|   50.94|       2|     0.0|   13.2|             50.94|               0.0|\n",
            "|     5|ES-2017-1311038|07/02/2017|11/02/2017|Standard Class|   AS-10045|  Aaron Smayling|  Corporate|        Leeds|             England|United Kingdom|  North|TEC-AC-10004068|     Technology| Accessories|Memorex Memory Ca...|  307.44|       3|     0.0|  73.71|            307.44|               0.0|\n",
            "|     6|ES-2017-1311038|07/02/2017|11/02/2017|Standard Class|   AS-10045|  Aaron Smayling|  Corporate|        Leeds|             England|United Kingdom|  North|OFF-ST-10002271|Office Supplies|     Storage|Rogers Shelving, ...|   122.4|       2|     0.0|  37.92|             122.4|               0.0|\n",
            "|     7|ES-2017-1311038|07/02/2017|11/02/2017|Standard Class|   AS-10045|  Aaron Smayling|  Corporate|        Leeds|             England|United Kingdom|  North|TEC-PH-10003963|     Technology|      Phones|Apple Signal Boos...|  413.82|       3|     0.0|  20.61|            413.82|               0.0|\n",
            "|     8|ES-2015-5113958|02/08/2015|07/08/2015|  Second Class|   EB-13840|   Ellis Ballard|  Corporate|West Bromwich|             England|United Kingdom|  North|TEC-CO-10004325|     Technology|     Copiers|Canon Personal Co...|  428.22|       3|     0.0| 192.69|            428.22|               0.0|\n",
            "|     9|ES-2015-5113958|02/08/2015|07/08/2015|  Second Class|   EB-13840|   Ellis Ballard|  Corporate|West Bromwich|             England|United Kingdom|  North|OFF-AP-10004512|Office Supplies|  Appliances|   Hoover Stove, Red| 3979.29|       7|     0.0|1989.54|           3979.29|               0.0|\n",
            "|    10|ES-2015-5113958|02/08/2015|07/08/2015|  Second Class|   EB-13840|   Ellis Ballard|  Corporate|West Bromwich|             England|United Kingdom|  North|OFF-FA-10002393|Office Supplies|   Fasteners|Accos Push Pins, ...|   43.56|       3|     0.0|   12.6|             43.56|               0.0|\n",
            "|    11|ES-2015-2510515|20/06/2015|20/06/2015|      Same Day|   LH-17155|Logan Haushalter|   Consumer|   Le Bouscat|Aquitaine-Limousi...|        France|Central|OFF-LA-10002805|Office Supplies|      Labels|Hon Color Coded L...|   25.26|       2|     0.0|   0.48|             25.26|               0.0|\n",
            "|    12|ES-2015-2510515|20/06/2015|20/06/2015|      Same Day|   LH-17155|Logan Haushalter|   Consumer|   Le Bouscat|Aquitaine-Limousi...|        France|Central|OFF-AP-10002330|Office Supplies|  Appliances|Hamilton Beach St...|2443.905|       5|     0.1|760.305|2715.4500000000003| 271.5450000000001|\n",
            "|    13|ES-2015-2510515|20/06/2015|20/06/2015|      Same Day|   LH-17155|Logan Haushalter|   Consumer|   Le Bouscat|Aquitaine-Limousi...|        France|Central|OFF-AR-10000505|Office Supplies|         Art|Binney & Smith Pe...|   12.21|       1|     0.0|    0.0|             12.21|               0.0|\n",
            "|    14|ES-2015-2510515|20/06/2015|20/06/2015|      Same Day|   LH-17155|Logan Haushalter|   Consumer|   Le Bouscat|Aquitaine-Limousi...|        France|Central|TEC-PH-10002898|     Technology|      Phones|Samsung Smart Pho...|2167.296|       4|    0.15|790.416|2549.7599999999998|382.46399999999994|\n",
            "|    15|ES-2015-2510515|20/06/2015|20/06/2015|      Same Day|   LH-17155|Logan Haushalter|   Consumer|   Le Bouscat|Aquitaine-Limousi...|        France|Central|OFF-ST-10001413|Office Supplies|     Storage|Rogers Folders, Blue| 138.105|       5|     0.1|-12.345|            153.45|15.344999999999999|\n",
            "|    16|ES-2016-4380115|16/02/2016|20/02/2016|Standard Class|   KC-16540| Kelly Collister|   Consumer|   Strasbourg|Alsace-Champagne-...|        France|Central|OFF-ST-10003931|Office Supplies|     Storage|Smead Trays, Wire...| 128.385|       3|     0.1|  4.275|142.64999999999998|14.264999999999986|\n",
            "|    17|ES-2016-4380115|16/02/2016|20/02/2016|Standard Class|   KC-16540| Kelly Collister|   Consumer|   Strasbourg|Alsace-Champagne-...|        France|Central|TEC-AC-10004269|     Technology| Accessories|Belkin Memory Car...|  690.12|       6|     0.0|    0.0|            690.12|               0.0|\n",
            "|    18|ES-2016-4380115|16/02/2016|20/02/2016|Standard Class|   KC-16540| Kelly Collister|   Consumer|   Strasbourg|Alsace-Champagne-...|        France|Central|OFF-LA-10001676|Office Supplies|      Labels|Hon Removable Lab...|    8.16|       1|     0.0|   1.14|              8.16|               0.0|\n",
            "|    19|ES-2017-2573330|03/11/2017|08/11/2017|Standard Class|   BF-11170|      Ben Ferrer|Home Office|         Unna|North Rhine-Westp...|       Germany|Central|TEC-MA-10000811|     Technology|    Machines|Okidata Phone, Du...|  347.88|       4|     0.0|  76.44|            347.88|               0.0|\n",
            "|    20|ES-2017-2573330|03/11/2017|08/11/2017|Standard Class|   BF-11170|      Ben Ferrer|Home Office|         Unna|North Rhine-Westp...|       Germany|Central|OFF-ST-10000648|Office Supplies|     Storage|Eldon File Cart, ...| 575.505|       5|     0.1| 12.705| 639.4499999999999|63.944999999999936|\n",
            "+------+---------------+----------+----------+--------------+-----------+----------------+-----------+-------------+--------------------+--------------+-------+---------------+---------------+------------+--------------------+--------+--------+--------+-------+------------------+------------------+\n",
            "only showing top 20 rows\n",
            "\n"
          ]
        }
      ],
      "source": [
        "# calculate the difference between sales and discount value\n",
        "df = df.withColumn(\"Difference\", df[\"Original Price\"] - df[\"Sales\"])\n",
        "df.show()"
      ]
    },
    {
      "cell_type": "code",
      "execution_count": null,
      "id": "8e810f4f",
      "metadata": {
        "id": "8e810f4f",
        "colab": {
          "base_uri": "https://localhost:8080/"
        },
        "outputId": "6939fef6-e148-4308-efa1-86c594922002"
      },
      "outputs": [
        {
          "output_type": "stream",
          "name": "stdout",
          "text": [
            "+--------+------------------+\n",
            "|Discount|   sum(Difference)|\n",
            "+--------+------------------+\n",
            "|     0.0|               0.0|\n",
            "|     0.2|10653.119999999997|\n",
            "|     0.7|          8534.085|\n",
            "|     0.1| 84712.44899999995|\n",
            "|    0.45|2083.4414999999995|\n",
            "|     0.6| 39644.04599999997|\n",
            "|     0.8| 635.6640000000002|\n",
            "|    0.35|29163.099000000002|\n",
            "|     0.5|183734.26500000045|\n",
            "|     0.4| 46724.68800000002|\n",
            "|    0.85|          4515.438|\n",
            "|    0.15| 45233.17650000002|\n",
            "|    0.65|12219.655499999999|\n",
            "|     0.3|2630.2410000000004|\n",
            "+--------+------------------+\n",
            "\n"
          ]
        }
      ],
      "source": [
        "# how much money did we not gain due to the discounts - per discount bracket?\n",
        "df.groupBy(\"Discount\").agg({\"Difference\": \"sum\"}).show()"
      ]
    },
    {
      "cell_type": "code",
      "execution_count": null,
      "id": "76aca9f2",
      "metadata": {
        "id": "76aca9f2",
        "colab": {
          "base_uri": "https://localhost:8080/"
        },
        "outputId": "c1fbf312-a079-4fc2-cc45-59fd8cfd4104"
      },
      "outputs": [
        {
          "output_type": "stream",
          "name": "stdout",
          "text": [
            "+--------+------------------+\n",
            "|Discount|        Total_Loss|\n",
            "+--------+------------------+\n",
            "|     0.5|183734.26500000045|\n",
            "+--------+------------------+\n",
            "\n"
          ]
        }
      ],
      "source": [
        "# find the discount bracket which made us not gain the most (dynamically)\n",
        "from pyspark.sql.functions import max, sum, first\n",
        "\n",
        "df_temp = df.groupBy(\"Discount\").agg(sum(\"Difference\").alias(\"Total_Loss\"))\n",
        "df_temp.orderBy(desc(\"Total_Loss\")).limit(1).show()"
      ]
    },
    {
      "cell_type": "code",
      "execution_count": null,
      "id": "0aa9b685",
      "metadata": {
        "id": "0aa9b685",
        "colab": {
          "base_uri": "https://localhost:8080/"
        },
        "outputId": "24dca31e-3e5c-4157-f54e-395b53d3e24f"
      },
      "outputs": [
        {
          "output_type": "stream",
          "name": "stdout",
          "text": [
            "Total profit without discount 0.5:  469461.8565000003\n",
            "Total profit:  372829.7415000005\n",
            "Difference:  -96632.11499999976\n"
          ]
        }
      ],
      "source": [
        "# what would have been the total profit if we removed all orders from that discount group? \n",
        "\n",
        "from pyspark.sql.functions import sum\n",
        "\n",
        "# filter out the rows that have discount 0.5\n",
        "df_without_discount = df.filter(df[\"Discount\"] != 0.5)\n",
        "\n",
        "# calculate total profit without discount 0.5\n",
        "total_profit_without_discount = df_without_discount.agg(sum(\"Profit\")).collect()[0][0]\n",
        "\n",
        "# calculate total profit\n",
        "total_profit = df.agg(sum(\"Profit\")).collect()[0][0]\n",
        "\n",
        "# calculate the difference\n",
        "difference = total_profit - total_profit_without_discount\n",
        "\n",
        "print(\"Total profit without discount 0.5: \", total_profit_without_discount)\n",
        "print(\"Total profit: \", total_profit)\n",
        "print(\"Difference: \", difference)"
      ]
    },
    {
      "cell_type": "code",
      "execution_count": null,
      "id": "fca95e60",
      "metadata": {
        "id": "fca95e60"
      },
      "outputs": [],
      "source": [
        "#how much more (or less) profit is that?\n",
        "\n",
        "Difference:  -96632.11499999976"
      ]
    },
    {
      "cell_type": "code",
      "execution_count": null,
      "id": "0fb49200",
      "metadata": {
        "id": "0fb49200"
      },
      "outputs": [],
      "source": [
        "# create a temporary table for our superstore table in sql\n",
        "df.createOrReplaceTempView(\"superstore_temp\")"
      ]
    },
    {
      "cell_type": "code",
      "execution_count": null,
      "id": "a23e0bca",
      "metadata": {
        "id": "a23e0bca",
        "colab": {
          "base_uri": "https://localhost:8080/"
        },
        "outputId": "f0d3fa6c-22a4-40c8-f897-511d2d37d231"
      },
      "outputs": [
        {
          "output_type": "stream",
          "name": "stdout",
          "text": [
            "+--------+\n",
            "|count(1)|\n",
            "+--------+\n",
            "|   10000|\n",
            "+--------+\n",
            "\n"
          ]
        }
      ],
      "source": [
        "# use an SQL query to count the number of rows\n",
        "sqlContext.sql(\"SELECT COUNT(*) FROM superstore_temp\").show()"
      ]
    },
    {
      "cell_type": "code",
      "execution_count": null,
      "id": "8e2cf9f2",
      "metadata": {
        "id": "8e2cf9f2",
        "colab": {
          "base_uri": "https://localhost:8080/"
        },
        "outputId": "b81be9c9-0dd3-4db4-9c36-c590ff9d15fc"
      },
      "outputs": [
        {
          "output_type": "stream",
          "name": "stdout",
          "text": [
            "+--------------+--------------------+\n",
            "|       Country|        Profit_Ratio|\n",
            "+--------------+--------------------+\n",
            "|   Switzerland|  0.2909201193350232|\n",
            "|       Austria|  0.2641908775042505|\n",
            "|        Norway|  0.2517747548521659|\n",
            "|       Belgium| 0.23508766583987942|\n",
            "|United Kingdom| 0.21170103540397134|\n",
            "|         Spain| 0.18941580658358978|\n",
            "|       Finland| 0.18864296633316185|\n",
            "|       Germany| 0.17066792076621765|\n",
            "|        France| 0.12693568221933804|\n",
            "|         Italy| 0.06844355185424991|\n",
            "|       Ireland|-0.44426677493909256|\n",
            "|       Denmark| -0.4957190005664471|\n",
            "|   Netherlands| -0.5298342790541865|\n",
            "|        Sweden| -0.5745674280714466|\n",
            "|      Portugal| -0.5761662270806188|\n",
            "+--------------+--------------------+\n",
            "\n"
          ]
        }
      ],
      "source": [
        "# Use an SQL query to calculate the profit ratio for each country: hint, ratio is sum(profit)/sum(sales)\n",
        "sqlContext.sql(\"SELECT Country, SUM(Profit) / SUM(Sales) as Profit_Ratio FROM superstore_temp GROUP BY Country ORDER BY Profit_Ratio DESC\").show()"
      ]
    },
    {
      "cell_type": "code",
      "execution_count": null,
      "id": "f8cdd772",
      "metadata": {
        "id": "f8cdd772",
        "colab": {
          "base_uri": "https://localhost:8080/"
        },
        "outputId": "388620d2-30d8-4cfc-9a97-34b85b400ccf"
      },
      "outputs": [
        {
          "output_type": "stream",
          "name": "stdout",
          "text": [
            "+--------------+-------------------+\n",
            "|       Country|       Total_Profit|\n",
            "+--------------+-------------------+\n",
            "|United Kingdom| 111900.15000000001|\n",
            "|        France| 109029.00299999975|\n",
            "|       Germany| 107322.82049999991|\n",
            "|         Spain|  54390.11999999999|\n",
            "|       Austria|           21442.26|\n",
            "|         Italy| 19828.757999999965|\n",
            "|       Belgium|           11572.59|\n",
            "|   Switzerland|  7237.470000000001|\n",
            "|        Norway|            5167.77|\n",
            "|       Finland|            3905.73|\n",
            "|       Denmark|-4282.0470000000005|\n",
            "|       Ireland| -7392.381000000003|\n",
            "|      Portugal| -8703.059999999998|\n",
            "|        Sweden|-17519.366999999987|\n",
            "|   Netherlands| -41070.07499999996|\n",
            "+--------------+-------------------+\n",
            "\n"
          ]
        }
      ],
      "source": [
        "# is the country with the largest profit ratio, the country with the largest profit?\n",
        "sqlContext.sql(\"SELECT Country, SUM(Profit) as Total_Profit FROM superstore_temp GROUP BY Country ORDER BY Total_Profit DESC\").show()\n",
        "\n",
        "\"\"\" No, It is not necessarily the case that the country with the largest profit ratio also has the largest profit. \n",
        "The profit ratio is calculated by taking the sum of profits and dividing it by the sum of sales for a given country. \n",
        "This ratio can be influenced by factors such as the number of customers or the number of sales in that country, \n",
        " even if the profit is relatively low. Therefore, even if a country has a high profit ratio, \n",
        " it may not have the highest profit if the sales or customer count is low. \n",
        "In order to determine which country has the largest profit, \n",
        " you would need to calculate the sum of profits for each country separately and compare them. \"\"\""
      ]
    },
    {
      "cell_type": "code",
      "execution_count": null,
      "id": "4c7397b1",
      "metadata": {
        "id": "4c7397b1"
      },
      "outputs": [],
      "source": []
    }
  ],
  "metadata": {
    "kernelspec": {
      "display_name": "Python 3 (ipykernel)",
      "language": "python",
      "name": "python3"
    },
    "language_info": {
      "codemirror_mode": {
        "name": "ipython",
        "version": 3
      },
      "file_extension": ".py",
      "mimetype": "text/x-python",
      "name": "python",
      "nbconvert_exporter": "python",
      "pygments_lexer": "ipython3",
      "version": "3.9.7"
    },
    "colab": {
      "provenance": [],
      "include_colab_link": true
    }
  },
  "nbformat": 4,
  "nbformat_minor": 5
}